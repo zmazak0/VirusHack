{
 "cells": [
  {
   "cell_type": "code",
   "execution_count": 55,
   "metadata": {},
   "outputs": [
    {
     "name": "stdout",
     "output_type": "stream",
     "text": [
      "start\n",
      "end\n",
      "добавить_0.wav\n",
      "start\n",
      "end\n",
      "добавить_1.wav\n",
      "start\n",
      "end\n",
      "добавить_2.wav\n",
      "start\n",
      "end\n",
      "добавить_3.wav\n",
      "start\n",
      "end\n",
      "добавить_4.wav\n",
      "start\n",
      "end\n",
      "добавить_5.wav\n",
      "start\n",
      "end\n",
      "добавить_6.wav\n",
      "start\n",
      "end\n",
      "добавить_7.wav\n",
      "start\n",
      "end\n",
      "добавить_8.wav\n",
      "start\n",
      "end\n",
      "добавить_9.wav\n",
      "start\n",
      "end\n",
      "добавить_10.wav\n",
      "start\n",
      "end\n",
      "добавить_11.wav\n",
      "start\n",
      "end\n",
      "добавить_12.wav\n",
      "start\n",
      "end\n",
      "добавить_13.wav\n",
      "start\n",
      "end\n",
      "добавить_14.wav\n",
      "start\n",
      "end\n",
      "добавить_15.wav\n",
      "start\n",
      "end\n",
      "добавить_16.wav\n",
      "start\n",
      "end\n",
      "добавить_17.wav\n",
      "start\n",
      "end\n",
      "добавить_18.wav\n",
      "start\n",
      "end\n",
      "добавить_19.wav\n"
     ]
    }
   ],
   "source": [
    "import sounddevice as sd\n",
    "import soundfile as sf\n",
    "\n",
    "import time\n",
    "\n",
    "samplerate = 16000\n",
    "duration = 1 # seconds\n",
    "for i in range (20):\n",
    "    time.sleep(1)\n",
    "    filename = 'добавить_'+str(i)+'.wav'\n",
    "    print(\"start\")\n",
    "    \n",
    "    mydata = sd.rec(int(samplerate * duration), samplerate=samplerate, channels=1, blocking=True)\n",
    "    print(\"end\")\n",
    "    time.sleep(1)\n",
    "    sd.wait()\n",
    "    sf.write(filename, mydata, samplerate)\n",
    "    print (filename)\n",
    "    i=i+1"
   ]
  },
  {
   "cell_type": "code",
   "execution_count": 38,
   "metadata": {},
   "outputs": [],
   "source": [
    "i=0"
   ]
  },
  {
   "cell_type": "code",
   "execution_count": null,
   "metadata": {},
   "outputs": [],
   "source": []
  },
  {
   "cell_type": "code",
   "execution_count": null,
   "metadata": {},
   "outputs": [],
   "source": []
  }
 ],
 "metadata": {
  "kernelspec": {
   "display_name": "Python 3",
   "language": "python",
   "name": "python3"
  },
  "language_info": {
   "codemirror_mode": {
    "name": "ipython",
    "version": 3
   },
   "file_extension": ".py",
   "mimetype": "text/x-python",
   "name": "python",
   "nbconvert_exporter": "python",
   "pygments_lexer": "ipython3",
   "version": "3.7.3"
  }
 },
 "nbformat": 4,
 "nbformat_minor": 2
}
